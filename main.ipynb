{
 "cells": [
  {
   "cell_type": "code",
   "execution_count": 2,
   "metadata": {},
   "outputs": [],
   "source": [
    "import pandas as pd\n",
    "import numpy as np\n",
    "import streamlit as st"
   ]
  },
  {
   "cell_type": "code",
   "execution_count": null,
   "metadata": {},
   "outputs": [],
   "source": [
    "st.set_page_config(layout=\"wide\")\n",
    "\n",
    "\n",
    "uploaded_file_one = \"main.csv\"\n",
    "uploaded_file_who = \"asd.csv\"\n",
    "uploaded_file_third = \"df_count_zero.csv\"\n",
    "\n",
    "\n",
    "all = pd.read_csv(uploaded_file_one, sep=',')\n",
    "task = pd.read_csv(uploaded_file_who, sep=',')\n",
    "zero_count = pd.read_csv(uploaded_file_third, sep=',')\n",
    "\n",
    "\n",
    "all = all[['state','category_id' , 'offers_may', 'offers_no_responds_may', \n",
    "'count_active_may', 'count_active_may_with_responds', 'need', 'need_']]\n",
    "\n",
    "all.columns = ['Штат', 'id категории', 'Количество задач', \n",
    "                'Количество задач без отклика', 'Количество активных провайдеров',\n",
    "                'Количество активных провайдеров с откликом', 'Необходимое число провайдеров', 'Необходимое число провайдеров для поиска']\n",
    "\n",
    "\n",
    "task = task[['state', 'need', 'need_']]\n",
    "task.columns = ['Штат', 'Необходимое число провайдеров', 'Необходимое число провайдеров для поиска']\n",
    "\n",
    "\n",
    "zero_count = zero_count[['state', 'category_id']]\n",
    "\n",
    "zero_count.columns = ['Штат', 'id_категории']\n",
    "\n",
    "\n",
    "\n",
    "st.title(\"Аналитика задач за май 2022\")\n",
    "st.subheader(\"Количество необходимых провайдеров\")\n",
    "\n",
    "####################\n",
    "\n",
    "col_multi, col_em = st.columns([2, 3])\n",
    "selected_sn = col_multi.selectbox(\n",
    "    \"Выберите штат\",\n",
    "    options=all['Штат'].unique().tolist(),\n",
    "    index=0,\n",
    ")\n",
    "\n",
    "st.write(all.query('Штат == @selected_sn'), width=300)\n",
    "\n",
    "\n",
    "st.write(\"\"\"##### Суммарное необходимое количество провайдеров по штатам\"\"\")\n",
    "st.write(task, width=200)\n",
    "\n",
    "####################\n",
    "\n",
    "st.subheader(\"Штаты с 0 задач и провайдеров\")\n",
    "\n",
    "col_multi, col_em = st.columns([2, 3])\n",
    "selected_sn = col_multi.selectbox(\n",
    "    \"Выберите штат\",\n",
    "    options=zero_count['Штат'].unique().tolist(),\n",
    "    index=0,\n",
    ")\n",
    "\n",
    "col_em.write(\"\")\n",
    "col_em.write(\"\")\n",
    "col_em.write(\n",
    "    f\"{selected_sn} содержит {zero_count.query('Штат == @selected_sn').count()[0]} категорий без провайдеров и исполнителей\"\n",
    ")\n",
    "st.write(zero_count.query('Штат == @selected_sn'), width=300)\n",
    "\n",
    "####################\n",
    "\n"
   ]
  },
  {
   "cell_type": "code",
   "execution_count": null,
   "metadata": {},
   "outputs": [],
   "source": []
  }
 ],
 "metadata": {
  "interpreter": {
   "hash": "aee8b7b246df8f9039afb4144a1f6fd8d2ca17a180786b69acc140d282b71a49"
  },
  "kernelspec": {
   "display_name": "Python 3.10.4 64-bit",
   "language": "python",
   "name": "python3"
  },
  "language_info": {
   "codemirror_mode": {
    "name": "ipython",
    "version": 3
   },
   "file_extension": ".py",
   "mimetype": "text/x-python",
   "name": "python",
   "nbconvert_exporter": "python",
   "pygments_lexer": "ipython3",
   "version": "3.10.4"
  },
  "orig_nbformat": 4
 },
 "nbformat": 4,
 "nbformat_minor": 2
}
