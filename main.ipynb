{
 "cells": [
  {
   "cell_type": "code",
   "execution_count": 2,
   "metadata": {},
   "outputs": [],
   "source": [
    "import pandas as pd\n",
    "import numpy as np\n",
    "import streamlit as st"
   ]
  },
  {
   "cell_type": "code",
   "execution_count": null,
   "metadata": {},
   "outputs": [],
   "source": [
    "st.title(\"Необходимое число провайдеров\")\n",
    "\n",
    "uploaded_file_one = \"main.csv\"\n",
    "uploaded_file_who = \"asd.csv\"\n",
    "\n",
    "\n",
    "all = pd.read_csv(uploaded_file_one, sep='|')\n",
    "task = pd.read_csv(uploaded_file_who, sep='|')\n",
    "\n",
    "\n",
    "st.write(all.head(5))\n",
    "st.write(task.head(5))\n",
    "\n",
    "\n",
    "option = st.selectbox(\n",
    "    all['state'].unique().tolist(),\n",
    "    index=0,\n",
    ")\n",
    "\n",
    "st.write('You selected:', option)\n",
    "\n",
    "\n"
   ]
  },
  {
   "cell_type": "code",
   "execution_count": null,
   "metadata": {},
   "outputs": [],
   "source": []
  }
 ],
 "metadata": {
  "interpreter": {
   "hash": "aee8b7b246df8f9039afb4144a1f6fd8d2ca17a180786b69acc140d282b71a49"
  },
  "kernelspec": {
   "display_name": "Python 3.10.4 64-bit",
   "language": "python",
   "name": "python3"
  },
  "language_info": {
   "codemirror_mode": {
    "name": "ipython",
    "version": 3
   },
   "file_extension": ".py",
   "mimetype": "text/x-python",
   "name": "python",
   "nbconvert_exporter": "python",
   "pygments_lexer": "ipython3",
   "version": "3.10.4"
  },
  "orig_nbformat": 4
 },
 "nbformat": 4,
 "nbformat_minor": 2
}
